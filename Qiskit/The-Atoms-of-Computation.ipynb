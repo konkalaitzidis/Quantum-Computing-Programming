{
 "cells": [
  {
   "cell_type": "markdown",
   "metadata": {},
   "source": [
    "The Atoms of Computation"
   ]
  },
  {
   "cell_type": "code",
   "execution_count": 1,
   "metadata": {},
   "outputs": [],
   "source": [
    "from qiskit import QuantumCircuit, execute, Aer\n",
    "from qiskit.visualization import plot_histogram\n",
    "from matplotlib import style\n",
    "style.use(\"dark_background\")"
   ]
  },
  {
   "cell_type": "code",
   "execution_count": 2,
   "metadata": {},
   "outputs": [
    {
     "ename": "ModuleNotFoundError",
     "evalue": "No module named 'qiskit_textbook'",
     "output_type": "error",
     "traceback": [
      "\u001b[0;31m---------------------------------------------------------------------------\u001b[0m",
      "\u001b[0;31mModuleNotFoundError\u001b[0m                       Traceback (most recent call last)",
      "\u001b[0;32m<ipython-input-2-7fb7a5b21ca3>\u001b[0m in \u001b[0;36m<module>\u001b[0;34m\u001b[0m\n\u001b[0;32m----> 1\u001b[0;31m \u001b[0;32mfrom\u001b[0m \u001b[0mqiskit_textbook\u001b[0m\u001b[0;34m.\u001b[0m\u001b[0mwidgets\u001b[0m \u001b[0;32mimport\u001b[0m \u001b[0mbinary_widget\u001b[0m\u001b[0;34m\u001b[0m\u001b[0;34m\u001b[0m\u001b[0m\n\u001b[0m\u001b[1;32m      2\u001b[0m \u001b[0mbinary_widget\u001b[0m\u001b[0;34m(\u001b[0m\u001b[0mnbits\u001b[0m\u001b[0;34m=\u001b[0m\u001b[0;36m5\u001b[0m\u001b[0;34m)\u001b[0m\u001b[0;34m\u001b[0m\u001b[0;34m\u001b[0m\u001b[0m\n",
      "\u001b[0;31mModuleNotFoundError\u001b[0m: No module named 'qiskit_textbook'"
     ]
    }
   ],
   "source": [
    "from qiskit_textbook.widgets import binary_widget\n",
    "binary_widget(nbits=5)"
   ]
  },
  {
   "cell_type": "code",
   "execution_count": 3,
   "metadata": {},
   "outputs": [],
   "source": [
    "n = 8\n",
    "n_q = n\n",
    "n_b = n\n",
    "qc_output = QuantumCircuit(n_q,n_b)"
   ]
  },
  {
   "cell_type": "code",
   "execution_count": 4,
   "metadata": {},
   "outputs": [
    {
     "data": {
      "text/html": [
       "<pre style=\"word-wrap: normal;white-space: pre;background: #fff0;line-height: 1.1;font-family: &quot;Courier New&quot;,Courier,monospace\">        ┌─┐                     \n",
       "q_0: |0>┤M├─────────────────────\n",
       "        └╥┘┌─┐                  \n",
       "q_1: |0>─╫─┤M├──────────────────\n",
       "         ║ └╥┘┌─┐               \n",
       "q_2: |0>─╫──╫─┤M├───────────────\n",
       "         ║  ║ └╥┘┌─┐            \n",
       "q_3: |0>─╫──╫──╫─┤M├────────────\n",
       "         ║  ║  ║ └╥┘┌─┐         \n",
       "q_4: |0>─╫──╫──╫──╫─┤M├─────────\n",
       "         ║  ║  ║  ║ └╥┘┌─┐      \n",
       "q_5: |0>─╫──╫──╫──╫──╫─┤M├──────\n",
       "         ║  ║  ║  ║  ║ └╥┘┌─┐   \n",
       "q_6: |0>─╫──╫──╫──╫──╫──╫─┤M├───\n",
       "         ║  ║  ║  ║  ║  ║ └╥┘┌─┐\n",
       "q_7: |0>─╫──╫──╫──╫──╫──╫──╫─┤M├\n",
       "         ║  ║  ║  ║  ║  ║  ║ └╥┘\n",
       " c_0: 0 ═╩══╬══╬══╬══╬══╬══╬══╬═\n",
       "            ║  ║  ║  ║  ║  ║  ║ \n",
       " c_1: 0 ════╩══╬══╬══╬══╬══╬══╬═\n",
       "               ║  ║  ║  ║  ║  ║ \n",
       " c_2: 0 ═══════╩══╬══╬══╬══╬══╬═\n",
       "                  ║  ║  ║  ║  ║ \n",
       " c_3: 0 ══════════╩══╬══╬══╬══╬═\n",
       "                     ║  ║  ║  ║ \n",
       " c_4: 0 ═════════════╩══╬══╬══╬═\n",
       "                        ║  ║  ║ \n",
       " c_5: 0 ════════════════╩══╬══╬═\n",
       "                           ║  ║ \n",
       " c_6: 0 ═══════════════════╩══╬═\n",
       "                              ║ \n",
       " c_7: 0 ══════════════════════╩═\n",
       "                                </pre>"
      ],
      "text/plain": [
       "        ┌─┐                     \n",
       "q_0: |0>┤M├─────────────────────\n",
       "        └╥┘┌─┐                  \n",
       "q_1: |0>─╫─┤M├──────────────────\n",
       "         ║ └╥┘┌─┐               \n",
       "q_2: |0>─╫──╫─┤M├───────────────\n",
       "         ║  ║ └╥┘┌─┐            \n",
       "q_3: |0>─╫──╫──╫─┤M├────────────\n",
       "         ║  ║  ║ └╥┘┌─┐         \n",
       "q_4: |0>─╫──╫──╫──╫─┤M├─────────\n",
       "         ║  ║  ║  ║ └╥┘┌─┐      \n",
       "q_5: |0>─╫──╫──╫──╫──╫─┤M├──────\n",
       "         ║  ║  ║  ║  ║ └╥┘┌─┐   \n",
       "q_6: |0>─╫──╫──╫──╫──╫──╫─┤M├───\n",
       "         ║  ║  ║  ║  ║  ║ └╥┘┌─┐\n",
       "q_7: |0>─╫──╫──╫──╫──╫──╫──╫─┤M├\n",
       "         ║  ║  ║  ║  ║  ║  ║ └╥┘\n",
       " c_0: 0 ═╩══╬══╬══╬══╬══╬══╬══╬═\n",
       "            ║  ║  ║  ║  ║  ║  ║ \n",
       " c_1: 0 ════╩══╬══╬══╬══╬══╬══╬═\n",
       "               ║  ║  ║  ║  ║  ║ \n",
       " c_2: 0 ═══════╩══╬══╬══╬══╬══╬═\n",
       "                  ║  ║  ║  ║  ║ \n",
       " c_3: 0 ══════════╩══╬══╬══╬══╬═\n",
       "                     ║  ║  ║  ║ \n",
       " c_4: 0 ═════════════╩══╬══╬══╬═\n",
       "                        ║  ║  ║ \n",
       " c_5: 0 ════════════════╩══╬══╬═\n",
       "                           ║  ║ \n",
       " c_6: 0 ═══════════════════╩══╬═\n",
       "                              ║ \n",
       " c_7: 0 ══════════════════════╩═\n",
       "                                "
      ]
     },
     "execution_count": 4,
     "metadata": {},
     "output_type": "execute_result"
    }
   ],
   "source": [
    "for j in range(n):\n",
    "    qc_output.measure(j,j)\n",
    "\n",
    "qc_output.draw()"
   ]
  },
  {
   "cell_type": "code",
   "execution_count": 5,
   "metadata": {},
   "outputs": [
    {
     "data": {
      "image/png": "[encoded data removed]",
      "text/plain": [
       "<Figure size 504x360 with 1 Axes>"
      ]
     },
     "execution_count": 5,
     "metadata": {},
     "output_type": "execute_result"
    }
   ],
   "source": [
    "counts = execute(qc_output,Aer.get_backend('qasm_simulator')).result().get_counts()\n",
    "plot_histogram(counts)"
   ]
  },
  {
   "cell_type": "markdown",
   "metadata": {},
   "source": [
    "Creating an Adder Circuit "
   ]
  },
  {
   "cell_type": "code",
   "execution_count": 6,
   "metadata": {},
   "outputs": [
    {
     "data": {
      "text/html": [
       "<pre style=\"word-wrap: normal;white-space: pre;background: #fff0;line-height: 1.1;font-family: &quot;Courier New&quot;,Courier,monospace\">             \n",
       "q_0: |0>─────\n",
       "             \n",
       "q_1: |0>─────\n",
       "             \n",
       "q_2: |0>─────\n",
       "             \n",
       "q_3: |0>─────\n",
       "             \n",
       "q_4: |0>─────\n",
       "             \n",
       "q_5: |0>─────\n",
       "             \n",
       "q_6: |0>─────\n",
       "        ┌───┐\n",
       "q_7: |0>┤ X ├\n",
       "        └───┘</pre>"
      ],
      "text/plain": [
       "             \n",
       "q_0: |0>─────\n",
       "             \n",
       "q_1: |0>─────\n",
       "             \n",
       "q_2: |0>─────\n",
       "             \n",
       "q_3: |0>─────\n",
       "             \n",
       "q_4: |0>─────\n",
       "             \n",
       "q_5: |0>─────\n",
       "             \n",
       "q_6: |0>─────\n",
       "        ┌───┐\n",
       "q_7: |0>┤ X ├\n",
       "        └───┘"
      ]
     },
     "execution_count": 6,
     "metadata": {},
     "output_type": "execute_result"
    }
   ],
   "source": [
    "qc_encode = QuantumCircuit(n)\n",
    "qc_encode.x(7)\n",
    "\n",
    "qc_encode.draw()"
   ]
  },
  {
   "cell_type": "code",
   "execution_count": 7,
   "metadata": {},
   "outputs": [
    {
     "data": {
      "image/png": "[encoded data removed]",
      "text/plain": [
       "<Figure size 719.992x565.88 with 1 Axes>"
      ]
     },
     "execution_count": 7,
     "metadata": {},
     "output_type": "execute_result"
    }
   ],
   "source": [
    "qc = qc_encode + qc_output\n",
    "qc.draw(output='mpl',justify='none')"
   ]
  },
  {
   "cell_type": "code",
   "execution_count": 8,
   "metadata": {},
   "outputs": [
    {
     "data": {
      "image/png": "[encoded data removed]",
      "text/plain": [
       "<Figure size 504x360 with 1 Axes>"
      ]
     },
     "execution_count": 8,
     "metadata": {},
     "output_type": "execute_result"
    }
   ],
   "source": [
    "counts = execute(qc, Aer.get_backend('qasm_simulator')).result().get_counts()\n",
    "plot_histogram(counts)"
   ]
  },
  {
   "cell_type": "markdown",
   "metadata": {},
   "source": [
    "The bit we flipped, which comes from qubit 7, lives on the far left of the string. This is because Qiskit numbers the bits in a string from right to left. Some prefer to number their bits the other way around, but Qiskit's system certainly has its advantages when we are using the bits to represent numbers. Specifically, it means that qubit 7 is telling us about how many  27 s we have in our number. So by flipping this bit, we’ve now written the number 128 in our simple 8-bit computer."
   ]
  },
  {
   "cell_type": "code",
   "execution_count": null,
   "metadata": {},
   "outputs": [],
   "source": [
    "10110"
   ]
  },
  {
   "cell_type": "code",
   "execution_count": 13,
   "metadata": {},
   "outputs": [
    {
     "data": {
      "image/png": "[encoded data removed]",
      "text/plain": [
       "<Figure size 238.392x505.68 with 1 Axes>"
      ]
     },
     "execution_count": 13,
     "metadata": {},
     "output_type": "execute_result"
    }
   ],
   "source": [
    "qc_encode = QuantumCircuit(n)\n",
    "qc_encode.x(1)\n",
    "qc_encode.x(2)\n",
    "qc_encode.x(4)\n",
    "\n",
    "\n",
    "qc_encode.draw('mpl')"
   ]
  },
  {
   "cell_type": "markdown",
   "metadata": {},
   "source": [
    "Adding with Qiskit"
   ]
  },
  {
   "cell_type": "code",
   "execution_count": 17,
   "metadata": {},
   "outputs": [
    {
     "data": {
      "text/html": [
       "<pre style=\"word-wrap: normal;white-space: pre;background: #fff0;line-height: 1.1;font-family: &quot;Courier New&quot;,Courier,monospace\">             \n",
       "q_0: |0>──■──\n",
       "        ┌─┴─┐\n",
       "q_1: |0>┤ X ├\n",
       "        └───┘</pre>"
      ],
      "text/plain": [
       "             \n",
       "q_0: |0>──■──\n",
       "        ┌─┴─┐\n",
       "q_1: |0>┤ X ├\n",
       "        └───┘"
      ]
     },
     "execution_count": 17,
     "metadata": {},
     "output_type": "execute_result"
    }
   ],
   "source": [
    "qc_cnot = QuantumCircuit(2)\n",
    "qc_cnot.cx(0,1)\n",
    "qc_cnot.draw()"
   ]
  },
  {
   "cell_type": "code",
   "execution_count": 20,
   "metadata": {},
   "outputs": [
    {
     "data": {
      "image/png": "[encoded data removed]",
      "text/plain": [
       "<Figure size 479.192x204.68 with 1 Axes>"
      ]
     },
     "execution_count": 20,
     "metadata": {},
     "output_type": "execute_result"
    }
   ],
   "source": [
    "qc = QuantumCircuit(2,2)\n",
    "qc.x(0)\n",
    "qc.cx(0,1)\n",
    "qc.barrier()\n",
    "qc.measure(0,0)\n",
    "qc.measure(1,1)\n",
    "qc.draw('mpl')"
   ]
  },
  {
   "cell_type": "code",
   "execution_count": null,
   "metadata": {},
   "outputs": [],
   "source": []
  },
  {
   "cell_type": "code",
   "execution_count": null,
   "metadata": {},
   "outputs": [],
   "source": []
  },
  {
   "cell_type": "code",
   "execution_count": null,
   "metadata": {},
   "outputs": [],
   "source": []
  },
  {
   "cell_type": "code",
   "execution_count": null,
   "metadata": {},
   "outputs": [],
   "source": []
  },
  {
   "cell_type": "code",
   "execution_count": null,
   "metadata": {},
   "outputs": [],
   "source": []
  }
 ],
 "metadata": {
  "kernelspec": {
   "display_name": "Python 3",
   "language": "python",
   "name": "python3"
  },
  "language_info": {
   "codemirror_mode": {
    "name": "ipython",
    "version": 3
   },
   "file_extension": ".py",
   "mimetype": "text/x-python",
   "name": "python",
   "nbconvert_exporter": "python",
   "pygments_lexer": "ipython3",
   "version": "3.7.6"
  }
 },
 "nbformat": 4,
 "nbformat_minor": 4
}
